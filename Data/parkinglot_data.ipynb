{
 "cells": [
  {
   "cell_type": "code",
   "execution_count": 2,
   "id": "94e66c7e",
   "metadata": {},
   "outputs": [],
   "source": [
    "import pandas as pd\n",
    "import seaborn as sns\n",
    "import matplotlib.pyplot as plt\n",
    "\n",
    "pd.set_option('display.max_rows', None)"
   ]
  },
  {
   "cell_type": "code",
   "execution_count": 3,
   "id": "25628e91",
   "metadata": {},
   "outputs": [],
   "source": [
    "from geopy.geocoders import Nominatim\n",
    "from geopy.distance import distance\n",
    "import time"
   ]
  },
  {
   "cell_type": "code",
   "execution_count": null,
   "id": "976da446",
   "metadata": {},
   "outputs": [],
   "source": [
    "df=pd.read_excel('청년몰주소(수정).xlsx')"
   ]
  },
  {
   "cell_type": "code",
   "execution_count": 5,
   "id": "be738e9a",
   "metadata": {},
   "outputs": [
    {
     "data": {
      "text/html": [
       "<div>\n",
       "<style scoped>\n",
       "    .dataframe tbody tr th:only-of-type {\n",
       "        vertical-align: middle;\n",
       "    }\n",
       "\n",
       "    .dataframe tbody tr th {\n",
       "        vertical-align: top;\n",
       "    }\n",
       "\n",
       "    .dataframe thead th {\n",
       "        text-align: right;\n",
       "    }\n",
       "</style>\n",
       "<table border=\"1\" class=\"dataframe\">\n",
       "  <thead>\n",
       "    <tr style=\"text-align: right;\">\n",
       "      <th></th>\n",
       "      <th>행정동코드</th>\n",
       "      <th>시도명</th>\n",
       "      <th>시군구명</th>\n",
       "      <th>읍면동명</th>\n",
       "      <th>시장명</th>\n",
       "      <th>도로명주소</th>\n",
       "      <th>지번</th>\n",
       "    </tr>\n",
       "  </thead>\n",
       "  <tbody>\n",
       "    <tr>\n",
       "      <th>0</th>\n",
       "      <td>4817056500</td>\n",
       "      <td>경상남도</td>\n",
       "      <td>진주시</td>\n",
       "      <td>중앙동</td>\n",
       "      <td>진주중앙지하도</td>\n",
       "      <td>NaN</td>\n",
       "      <td>경남 진주시 동성동 17</td>\n",
       "    </tr>\n",
       "    <tr>\n",
       "      <th>1</th>\n",
       "      <td>5113051500</td>\n",
       "      <td>강원특별자치도</td>\n",
       "      <td>원주시</td>\n",
       "      <td>중앙동</td>\n",
       "      <td>원주중앙시장</td>\n",
       "      <td>강원 원주시 중앙시장길 2</td>\n",
       "      <td>중앙동 60-1</td>\n",
       "    </tr>\n",
       "    <tr>\n",
       "      <th>2</th>\n",
       "      <td>4122061000</td>\n",
       "      <td>경기도</td>\n",
       "      <td>평택시</td>\n",
       "      <td>통복동</td>\n",
       "      <td>통복시장</td>\n",
       "      <td>경기 평택시 통복시장로25번길 10</td>\n",
       "      <td>통복동 70-29</td>\n",
       "    </tr>\n",
       "    <tr>\n",
       "      <th>3</th>\n",
       "      <td>4513060500</td>\n",
       "      <td>전라북도</td>\n",
       "      <td>군산시</td>\n",
       "      <td>중앙동</td>\n",
       "      <td>군산공설시장</td>\n",
       "      <td>전북 군산시 신금길 18 군산공설시장</td>\n",
       "      <td>신영동 18-1</td>\n",
       "    </tr>\n",
       "    <tr>\n",
       "      <th>4</th>\n",
       "      <td>4111574000</td>\n",
       "      <td>경기도</td>\n",
       "      <td>수원시 팔달구</td>\n",
       "      <td>행궁동</td>\n",
       "      <td>영동시장</td>\n",
       "      <td>경기 수원시 팔달구 수원천로255번길 6</td>\n",
       "      <td>영동 8</td>\n",
       "    </tr>\n",
       "    <tr>\n",
       "      <th>5</th>\n",
       "      <td>4313051500</td>\n",
       "      <td>충청북도</td>\n",
       "      <td>충주시</td>\n",
       "      <td>성내.충인동</td>\n",
       "      <td>관아골상가</td>\n",
       "      <td>충북 충주시 관아1길 14</td>\n",
       "      <td>성내동 428</td>\n",
       "    </tr>\n",
       "    <tr>\n",
       "      <th>6</th>\n",
       "      <td>4713055000</td>\n",
       "      <td>경상북도</td>\n",
       "      <td>경주시</td>\n",
       "      <td>성건동</td>\n",
       "      <td>북부상가시장</td>\n",
       "      <td>경북 경주시 금성로396번길 7</td>\n",
       "      <td>성건동 629-10</td>\n",
       "    </tr>\n",
       "    <tr>\n",
       "      <th>7</th>\n",
       "      <td>4413151000</td>\n",
       "      <td>충청남도</td>\n",
       "      <td>천안시 동남구</td>\n",
       "      <td>중앙동</td>\n",
       "      <td>천안명동상점가</td>\n",
       "      <td>충남 천안시 동남구 은행길 5-4</td>\n",
       "      <td>대흥동 79-4</td>\n",
       "    </tr>\n",
       "    <tr>\n",
       "      <th>8</th>\n",
       "      <td>1141058500</td>\n",
       "      <td>서울특별시</td>\n",
       "      <td>서대문구</td>\n",
       "      <td>신촌동</td>\n",
       "      <td>이대앞상점가</td>\n",
       "      <td>서울 서대문구 이화여대길 52</td>\n",
       "      <td>대현동 33-9</td>\n",
       "    </tr>\n",
       "    <tr>\n",
       "      <th>9</th>\n",
       "      <td>4719025000</td>\n",
       "      <td>경상북도</td>\n",
       "      <td>구미시</td>\n",
       "      <td>선산읍</td>\n",
       "      <td>선산봉황시장</td>\n",
       "      <td>경북 구미시 선산읍 단계동길 24 선산시장</td>\n",
       "      <td>완전리 253</td>\n",
       "    </tr>\n",
       "  </tbody>\n",
       "</table>\n",
       "</div>"
      ],
      "text/plain": [
       "        행정동코드      시도명     시군구명    읍면동명      시장명                    도로명주소  \\\n",
       "0  4817056500     경상남도      진주시     중앙동  진주중앙지하도                      NaN   \n",
       "1  5113051500  강원특별자치도      원주시     중앙동   원주중앙시장           강원 원주시 중앙시장길 2   \n",
       "2  4122061000      경기도      평택시     통복동     통복시장      경기 평택시 통복시장로25번길 10   \n",
       "3  4513060500     전라북도      군산시     중앙동   군산공설시장     전북 군산시 신금길 18 군산공설시장   \n",
       "4  4111574000      경기도  수원시 팔달구     행궁동     영동시장   경기 수원시 팔달구 수원천로255번길 6   \n",
       "5  4313051500     충청북도      충주시  성내.충인동    관아골상가           충북 충주시 관아1길 14   \n",
       "6  4713055000     경상북도      경주시     성건동   북부상가시장        경북 경주시 금성로396번길 7   \n",
       "7  4413151000     충청남도  천안시 동남구     중앙동  천안명동상점가       충남 천안시 동남구 은행길 5-4   \n",
       "8  1141058500    서울특별시     서대문구     신촌동   이대앞상점가         서울 서대문구 이화여대길 52   \n",
       "9  4719025000     경상북도      구미시     선산읍   선산봉황시장  경북 구미시 선산읍 단계동길 24 선산시장   \n",
       "\n",
       "              지번  \n",
       "0  경남 진주시 동성동 17  \n",
       "1       중앙동 60-1  \n",
       "2      통복동 70-29  \n",
       "3       신영동 18-1  \n",
       "4           영동 8  \n",
       "5        성내동 428  \n",
       "6     성건동 629-10  \n",
       "7       대흥동 79-4  \n",
       "8       대현동 33-9  \n",
       "9        완전리 253  "
      ]
     },
     "execution_count": 5,
     "metadata": {},
     "output_type": "execute_result"
    }
   ],
   "source": [
    "df.head(10)"
   ]
  },
  {
   "cell_type": "markdown",
   "id": "884c8d45",
   "metadata": {},
   "source": [
    "# 진주시_중앙지하차도"
   ]
  },
  {
   "cell_type": "code",
   "execution_count": null,
   "id": "e64d5efc",
   "metadata": {},
   "outputs": [],
   "source": [
    "df1=pd.read_excel('주차장_10.xlsx',sheet_name='진주시')"
   ]
  },
  {
   "cell_type": "code",
   "execution_count": 7,
   "id": "2dc45202",
   "metadata": {},
   "outputs": [
    {
     "data": {
      "text/plain": [
       "위도    0\n",
       "경도    0\n",
       "dtype: int64"
      ]
     },
     "execution_count": 7,
     "metadata": {},
     "output_type": "execute_result"
    }
   ],
   "source": [
    "df1[['위도','경도']].isna().sum()"
   ]
  },
  {
   "cell_type": "code",
   "execution_count": 8,
   "id": "e46afe49",
   "metadata": {},
   "outputs": [
    {
     "name": "stdout",
     "output_type": "stream",
     "text": [
      "35.1918974\n",
      "128.0852183\n"
     ]
    }
   ],
   "source": [
    "add = '경남 진주시 동성동 17'\n",
    "\n",
    "geoloc = Nominatim(user_agent = 'South Korea', timeout=None)    # 사용자 에이전트를 설정\n",
    "geo = geoloc.geocode(add)     # 주소로 위치 정보 가져오기\n",
    "lat = str(geo.latitude)\n",
    "log = str(geo.longitude)\n",
    "\n",
    "print(lat)\n",
    "print(log)"
   ]
  },
  {
   "cell_type": "code",
   "execution_count": 9,
   "id": "de00b1fe",
   "metadata": {},
   "outputs": [],
   "source": [
    "lat = 35.1918974 \n",
    "log = 128.0852183  \n",
    "\n",
    "df1['거리(km)'] = df1.apply(lambda row: distance((lat, log), (row['위도'], row['경도'])).km, axis=1)"
   ]
  },
  {
   "cell_type": "markdown",
   "id": "febd0ec2",
   "metadata": {},
   "source": [
    "# 원주시_원주중앙시장"
   ]
  },
  {
   "cell_type": "code",
   "execution_count": null,
   "id": "dc67bf09",
   "metadata": {},
   "outputs": [],
   "source": [
    "df2=pd.read_excel('주차장_10.xlsx',sheet_name='원주시')"
   ]
  },
  {
   "cell_type": "code",
   "execution_count": 11,
   "id": "2aab62fc",
   "metadata": {},
   "outputs": [
    {
     "data": {
      "text/plain": [
       "위도    1\n",
       "경도    1\n",
       "dtype: int64"
      ]
     },
     "execution_count": 11,
     "metadata": {},
     "output_type": "execute_result"
    }
   ],
   "source": [
    "df2[['위도','경도']].isna().sum()"
   ]
  },
  {
   "cell_type": "code",
   "execution_count": 12,
   "id": "1d5ed4f1",
   "metadata": {},
   "outputs": [],
   "source": [
    "# Nominatim 인스턴스 생성\n",
    "geoloc = Nominatim(user_agent='South Korea', timeout=None)\n",
    "\n",
    "# '위도'와 '경도'가 NaN인 경우에만 주소를 조회하여 값 채우기\n",
    "for i, row in df2.iterrows():\n",
    "    if pd.isna(row['위도']) or pd.isna(row['경도']):  # 위도나 경도 값이 NaN인 경우\n",
    "        try:\n",
    "            geo = geoloc.geocode(row['소재지지번주소'])  # 주소를 위도, 경도로 변환\n",
    "            if geo is not None:\n",
    "                df2.at[i, '위도'] = geo.latitude\n",
    "                df2.at[i, '경도'] = geo.longitude\n",
    "            else:\n",
    "                df2.at[i, '위도'] = None\n",
    "                df2.at[i, '경도'] = None\n",
    "        except Exception as e:\n",
    "            df2.at[i, '위도'] = None\n",
    "            df2.at[i, '경도'] = None\n",
    "        time.sleep(1)  # API 요청 빈도를 조절하기 위해 1초 대기"
   ]
  },
  {
   "cell_type": "code",
   "execution_count": 13,
   "id": "22aaa1eb",
   "metadata": {},
   "outputs": [
    {
     "name": "stdout",
     "output_type": "stream",
     "text": [
      "37.3519969\n",
      "127.95189\n"
     ]
    }
   ],
   "source": [
    "add = '강원 원주시 중앙시장길 2'\n",
    "\n",
    "geoloc = Nominatim(user_agent = 'South Korea', timeout=None)   \n",
    "geo = geoloc.geocode(add)    \n",
    "lat = str(geo.latitude)\n",
    "log = str(geo.longitude)\n",
    "\n",
    "print(lat)\n",
    "print(log)"
   ]
  },
  {
   "cell_type": "code",
   "execution_count": 14,
   "id": "fa456175",
   "metadata": {},
   "outputs": [],
   "source": [
    "lat = 37.3512764\n",
    "log = 127.9506636\n",
    "\n",
    "df2['거리(km)'] = df2.apply(lambda row: distance((lat, log), (row['위도'], row['경도'])).km, axis=1)"
   ]
  },
  {
   "cell_type": "markdown",
   "id": "4d35de52",
   "metadata": {},
   "source": [
    "# 평택시_통북시장"
   ]
  },
  {
   "cell_type": "code",
   "execution_count": null,
   "id": "485384e0",
   "metadata": {},
   "outputs": [],
   "source": [
    "df3=pd.read_excel('주차장_10.xlsx',sheet_name='평택시')"
   ]
  },
  {
   "cell_type": "code",
   "execution_count": 16,
   "id": "761ac54c",
   "metadata": {},
   "outputs": [
    {
     "data": {
      "text/plain": [
       "위도    0\n",
       "경도    0\n",
       "dtype: int64"
      ]
     },
     "execution_count": 16,
     "metadata": {},
     "output_type": "execute_result"
    }
   ],
   "source": [
    "df3[['위도','경도']].isna().sum()"
   ]
  },
  {
   "cell_type": "code",
   "execution_count": 17,
   "id": "be87fe5f",
   "metadata": {},
   "outputs": [
    {
     "name": "stdout",
     "output_type": "stream",
     "text": [
      "36.9976391\n",
      "127.0855557\n"
     ]
    }
   ],
   "source": [
    "add = '경기 평택시 통복시장로25번길 10'\n",
    "\n",
    "geoloc = Nominatim(user_agent = 'South Korea', timeout=None)    \n",
    "geo = geoloc.geocode(add)   \n",
    "lat = str(geo.latitude)\n",
    "log = str(geo.longitude)\n",
    "\n",
    "print(lat)\n",
    "print(log)"
   ]
  },
  {
   "cell_type": "code",
   "execution_count": 18,
   "id": "5fe4288d",
   "metadata": {},
   "outputs": [],
   "source": [
    "lat = 36.9976391\n",
    "log = 127.0855557\n",
    "\n",
    "df3['거리(km)'] = df3.apply(lambda row: distance((lat, log), (row['위도'], row['경도'])).km, axis=1)"
   ]
  },
  {
   "cell_type": "markdown",
   "id": "7201f34f",
   "metadata": {},
   "source": [
    "# 군산시_군산공설시장"
   ]
  },
  {
   "cell_type": "code",
   "execution_count": null,
   "id": "acdd4b73",
   "metadata": {},
   "outputs": [],
   "source": [
    "df4=pd.read_excel('주차장_10.xlsx',sheet_name='군산시')"
   ]
  },
  {
   "cell_type": "code",
   "execution_count": 20,
   "id": "db2f9b1c",
   "metadata": {},
   "outputs": [
    {
     "data": {
      "text/plain": [
       "위도    0\n",
       "경도    0\n",
       "dtype: int64"
      ]
     },
     "execution_count": 20,
     "metadata": {},
     "output_type": "execute_result"
    }
   ],
   "source": [
    "df4[['위도','경도']].isna().sum()"
   ]
  },
  {
   "cell_type": "code",
   "execution_count": 21,
   "id": "affb7486",
   "metadata": {},
   "outputs": [
    {
     "name": "stdout",
     "output_type": "stream",
     "text": [
      "35.9846333\n",
      "126.7219746\n"
     ]
    }
   ],
   "source": [
    "add = '전북 군산시 신금길 18'\n",
    "\n",
    "geoloc = Nominatim(user_agent = 'South Korea', timeout=None)   \n",
    "geo = geoloc.geocode(add)     \n",
    "lat = str(geo.latitude)\n",
    "log = str(geo.longitude)\n",
    "\n",
    "print(lat)\n",
    "print(log)"
   ]
  },
  {
   "cell_type": "code",
   "execution_count": 22,
   "id": "34601ebb",
   "metadata": {},
   "outputs": [],
   "source": [
    "lat = 35.9846333\n",
    "log = 126.7219746\n",
    "\n",
    "df4['거리(km)'] = df4.apply(lambda row: distance((lat, log), (row['위도'], row['경도'])).km, axis=1)"
   ]
  },
  {
   "cell_type": "markdown",
   "id": "d8803bf5",
   "metadata": {},
   "source": [
    "# 수원시 팔달구_영동시장"
   ]
  },
  {
   "cell_type": "code",
   "execution_count": null,
   "id": "c69f773b",
   "metadata": {},
   "outputs": [],
   "source": [
    "df5=pd.read_excel('주차장_10.xlsx',sheet_name='수원시 팔달구')"
   ]
  },
  {
   "cell_type": "code",
   "execution_count": 24,
   "id": "7c95bffb",
   "metadata": {},
   "outputs": [
    {
     "data": {
      "text/plain": [
       "위도    0\n",
       "경도    0\n",
       "dtype: int64"
      ]
     },
     "execution_count": 24,
     "metadata": {},
     "output_type": "execute_result"
    }
   ],
   "source": [
    "df5[['위도','경도']].isna().sum()"
   ]
  },
  {
   "cell_type": "code",
   "execution_count": 25,
   "id": "dc3052a2",
   "metadata": {},
   "outputs": [],
   "source": [
    "# 인터넷 변환\n",
    "lat = 37.276815687652\n",
    "log = 127.018660256526\n",
    "\n",
    "df5['거리(km)'] = df5.apply(lambda row: distance((lat, log), (row['위도'], row['경도'])).km, axis=1)"
   ]
  },
  {
   "cell_type": "markdown",
   "id": "8c9fa7c9",
   "metadata": {},
   "source": [
    "# 충주시_관아골상가"
   ]
  },
  {
   "cell_type": "code",
   "execution_count": null,
   "id": "086ff27c",
   "metadata": {},
   "outputs": [],
   "source": [
    "df6=pd.read_excel('주차장_10.xlsx',sheet_name='충주시')"
   ]
  },
  {
   "cell_type": "code",
   "execution_count": 27,
   "id": "5aad2762",
   "metadata": {},
   "outputs": [
    {
     "data": {
      "text/plain": [
       "위도    0\n",
       "경도    0\n",
       "dtype: int64"
      ]
     },
     "execution_count": 27,
     "metadata": {},
     "output_type": "execute_result"
    }
   ],
   "source": [
    "df6[['위도','경도']].isna().sum()"
   ]
  },
  {
   "cell_type": "code",
   "execution_count": 28,
   "id": "4fe450bf",
   "metadata": {},
   "outputs": [
    {
     "name": "stdout",
     "output_type": "stream",
     "text": [
      "36.970806\n",
      "127.9355656\n"
     ]
    }
   ],
   "source": [
    "add = '충북 충주시 관아1길 14'\n",
    "\n",
    "geoloc = Nominatim(user_agent = 'South Korea', timeout=None)   \n",
    "geo = geoloc.geocode(add)     \n",
    "lat = str(geo.latitude)\n",
    "log = str(geo.longitude)\n",
    "\n",
    "print(lat)\n",
    "print(log)"
   ]
  },
  {
   "cell_type": "code",
   "execution_count": 29,
   "id": "2342d75f",
   "metadata": {},
   "outputs": [],
   "source": [
    "lat = 36.970806\n",
    "log = 127.9355656\n",
    "\n",
    "df6['거리(km)'] = df6.apply(lambda row: distance((lat, log), (row['위도'], row['경도'])).km, axis=1)"
   ]
  },
  {
   "cell_type": "markdown",
   "id": "045fa716",
   "metadata": {},
   "source": [
    "# 경주시_북부상가시장"
   ]
  },
  {
   "cell_type": "code",
   "execution_count": null,
   "id": "83dfbb3c",
   "metadata": {},
   "outputs": [],
   "source": [
    "df7=pd.read_excel('경주.xlsx')"
   ]
  },
  {
   "cell_type": "code",
   "execution_count": 31,
   "id": "7f0d0354",
   "metadata": {},
   "outputs": [
    {
     "data": {
      "text/plain": [
       "Latitude     0\n",
       "Longitude    0\n",
       "dtype: int64"
      ]
     },
     "execution_count": 31,
     "metadata": {},
     "output_type": "execute_result"
    }
   ],
   "source": [
    "df7[['Latitude','Longitude']].isna().sum()"
   ]
  },
  {
   "cell_type": "code",
   "execution_count": 32,
   "id": "caadb3ee",
   "metadata": {},
   "outputs": [
    {
     "name": "stdout",
     "output_type": "stream",
     "text": [
      "35.8538912\n",
      "129.2109349\n"
     ]
    }
   ],
   "source": [
    "add = '경북 경주시 금성로396번길 7'\n",
    "\n",
    "geoloc = Nominatim(user_agent = 'South Korea', timeout=None)   \n",
    "geo = geoloc.geocode(add)     \n",
    "lat = str(geo.latitude)\n",
    "log = str(geo.longitude)\n",
    "\n",
    "print(lat)\n",
    "print(log)"
   ]
  },
  {
   "cell_type": "code",
   "execution_count": 33,
   "id": "1521d293",
   "metadata": {},
   "outputs": [],
   "source": [
    "lat = 35.8530445\n",
    "log = 129.2073615\n",
    "\n",
    "df7['거리(km)'] = df7.apply(lambda row: distance((lat, log), (row['Latitude'], row['Longitude'])).km, axis=1)"
   ]
  },
  {
   "cell_type": "markdown",
   "id": "9fc64198",
   "metadata": {},
   "source": [
    "# 천안시 동남구_천안명동상점가"
   ]
  },
  {
   "cell_type": "code",
   "execution_count": null,
   "id": "8f4edeaa",
   "metadata": {},
   "outputs": [],
   "source": [
    "df8=pd.read_excel('주차장_10.xlsx',sheet_name='천안시 동남구')"
   ]
  },
  {
   "cell_type": "code",
   "execution_count": 35,
   "id": "9386a69a",
   "metadata": {},
   "outputs": [
    {
     "data": {
      "text/plain": [
       "위도    0\n",
       "경도    0\n",
       "dtype: int64"
      ]
     },
     "execution_count": 35,
     "metadata": {},
     "output_type": "execute_result"
    }
   ],
   "source": [
    "df8[['위도','경도']].isna().sum()"
   ]
  },
  {
   "cell_type": "code",
   "execution_count": 36,
   "id": "e0f1e15a",
   "metadata": {},
   "outputs": [],
   "source": [
    "# 인터넷 변환\n",
    "lat = 36.8083119430011\n",
    "log = 127.14857267546\n",
    "\n",
    "df8['거리(km)'] = df8.apply(lambda row: distance((lat, log), (row['위도'], row['경도'])).km, axis=1)"
   ]
  },
  {
   "cell_type": "markdown",
   "id": "afa43738",
   "metadata": {},
   "source": [
    "# 서대문구_이대앞상점가"
   ]
  },
  {
   "cell_type": "code",
   "execution_count": null,
   "id": "7e1ec970",
   "metadata": {},
   "outputs": [],
   "source": [
    "df9=pd.read_excel('주차장_10.xlsx',sheet_name='서대문구')"
   ]
  },
  {
   "cell_type": "code",
   "execution_count": 38,
   "id": "d33bbc78",
   "metadata": {},
   "outputs": [
    {
     "data": {
      "text/plain": [
       "위도    0\n",
       "경도    0\n",
       "dtype: int64"
      ]
     },
     "execution_count": 38,
     "metadata": {},
     "output_type": "execute_result"
    }
   ],
   "source": [
    "df9[['위도','경도']].isna().sum()"
   ]
  },
  {
   "cell_type": "code",
   "execution_count": 39,
   "id": "9aea9540",
   "metadata": {},
   "outputs": [
    {
     "name": "stdout",
     "output_type": "stream",
     "text": [
      "37.5643371\n",
      "126.94689253689391\n"
     ]
    }
   ],
   "source": [
    "add = '서울 서대문구 이화여대길 52'\n",
    "\n",
    "geoloc = Nominatim(user_agent = 'South Korea', timeout=None)   \n",
    "geo = geoloc.geocode(add)     \n",
    "lat = str(geo.latitude)\n",
    "log = str(geo.longitude)\n",
    "\n",
    "print(lat)\n",
    "print(log)"
   ]
  },
  {
   "cell_type": "code",
   "execution_count": 40,
   "id": "74be9627",
   "metadata": {},
   "outputs": [],
   "source": [
    "lat = 37.5643371\n",
    "log = 126.94689253689391\n",
    "\n",
    "df9['거리(km)'] = df9.apply(lambda row: distance((lat, log), (row['위도'], row['경도'])).km, axis=1)"
   ]
  },
  {
   "cell_type": "markdown",
   "id": "d35b6d70",
   "metadata": {},
   "source": [
    "# 구미시_선산봉황시장"
   ]
  },
  {
   "cell_type": "code",
   "execution_count": null,
   "id": "f3a8a97f",
   "metadata": {},
   "outputs": [],
   "source": [
    "df10=pd.read_excel('주차장_10.xlsx',sheet_name='구미시')"
   ]
  },
  {
   "cell_type": "code",
   "execution_count": 42,
   "id": "c3e76910",
   "metadata": {},
   "outputs": [
    {
     "data": {
      "text/plain": [
       "위도    0\n",
       "경도    0\n",
       "dtype: int64"
      ]
     },
     "execution_count": 42,
     "metadata": {},
     "output_type": "execute_result"
    }
   ],
   "source": [
    "df10[['위도','경도']].isna().sum()"
   ]
  },
  {
   "cell_type": "code",
   "execution_count": 43,
   "id": "e35b0b8b",
   "metadata": {},
   "outputs": [],
   "source": [
    "# 인터넷 변환\n",
    "lat = 36.2395185662056\n",
    "log = 128.300920980941\n",
    "\n",
    "df10['거리(km)'] = df10.apply(lambda row: distance((lat, log), (row['위도'], row['경도'])).km, axis=1)"
   ]
  },
  {
   "cell_type": "code",
   "execution_count": null,
   "id": "58ac55b9",
   "metadata": {},
   "outputs": [],
   "source": [
    "file_name = '주차장_10_거리추가.xlsx'\n",
    "\n",
    "# ExcelWriter를 사용하여 하나의 엑셀 파일에 여러 시트 저장\n",
    "with pd.ExcelWriter(file_name, engine='openpyxl') as writer:\n",
    "    df1.to_excel(writer, sheet_name='진주시', index=False)\n",
    "    df2.to_excel(writer, sheet_name='원주시', index=False)\n",
    "    df3.to_excel(writer, sheet_name='평택시', index=False)\n",
    "    df4.to_excel(writer, sheet_name='군산시', index=False)\n",
    "    df5.to_excel(writer, sheet_name='수원시 팔달구', index=False)\n",
    "    df6.to_excel(writer, sheet_name='충주시', index=False)\n",
    "    df7.to_excel(writer, sheet_name='경주시', index=False)\n",
    "    df8.to_excel(writer, sheet_name='천안시 동남구', index=False)\n",
    "    df9.to_excel(writer, sheet_name='서대문구', index=False)\n",
    "    df10.to_excel(writer, sheet_name='구미시', index=False)"
   ]
  }
 ],
 "metadata": {
  "kernelspec": {
   "display_name": "Python 3 (ipykernel)",
   "language": "python",
   "name": "python3"
  },
  "language_info": {
   "codemirror_mode": {
    "name": "ipython",
    "version": 3
   },
   "file_extension": ".py",
   "mimetype": "text/x-python",
   "name": "python",
   "nbconvert_exporter": "python",
   "pygments_lexer": "ipython3",
   "version": "3.10.9"
  }
 },
 "nbformat": 4,
 "nbformat_minor": 5
}
